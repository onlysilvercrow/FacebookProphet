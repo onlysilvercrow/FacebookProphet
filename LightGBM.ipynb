{
 "cells": [
  {
   "cell_type": "markdown",
   "id": "d0278c47-289e-4740-9e1c-4e0c05bb8f13",
   "metadata": {
    "tags": []
   },
   "source": [
    "## ABOUT"
   ]
  },
  {
   "cell_type": "markdown",
   "id": "2fa55302-c4e7-423c-a6c1-a856acae2cf7",
   "metadata": {},
   "source": [
    "### Section 1: Data loading and trasnformations"
   ]
  },
  {
   "cell_type": "code",
   "execution_count": 1,
   "id": "213f1114-7c03-41fb-8eae-2be306502add",
   "metadata": {
    "tags": []
   },
   "outputs": [
    {
     "name": "stdout",
     "output_type": "stream",
     "text": [
      "Collecting lightgbm (from -r Requirements.txt (line 1))\n",
      "  Obtaining dependency information for lightgbm from https://files.pythonhosted.org/packages/b3/f8/ee33e36194eb03a76eccf3adac3fba51f0e56fbd20609bb531659d48d3cb/lightgbm-4.1.0-py3-none-win_amd64.whl.metadata\n",
      "  Downloading lightgbm-4.1.0-py3-none-win_amd64.whl.metadata (19 kB)\n",
      "Collecting seaborn (from -r Requirements.txt (line 2))\n",
      "  Obtaining dependency information for seaborn from https://files.pythonhosted.org/packages/7b/e5/83fcd7e9db036c179e0352bfcd20f81d728197a16f883e7b90307a88e65e/seaborn-0.13.0-py3-none-any.whl.metadata\n",
      "  Downloading seaborn-0.13.0-py3-none-any.whl.metadata (5.3 kB)\n",
      "Collecting Prophet (from -r Requirements.txt (line 3))\n",
      "  Obtaining dependency information for Prophet from https://files.pythonhosted.org/packages/24/2b/834e9a347f2f0161e32a3c6125b8a1ebdf6ac33199a0ed3a0bdf1f0c296f/prophet-1.1.5-py3-none-win_amd64.whl.metadata\n",
      "  Downloading prophet-1.1.5-py3-none-win_amd64.whl.metadata (3.6 kB)\n",
      "Requirement already satisfied: numpy in c:\\python311\\lib\\site-packages (from lightgbm->-r Requirements.txt (line 1)) (1.25.2)\n",
      "Collecting scipy (from lightgbm->-r Requirements.txt (line 1))\n",
      "  Obtaining dependency information for scipy from https://files.pythonhosted.org/packages/81/d7/d2537d51efb692d0c411e64267ba349e7668d40f5bc73cefe78ccd650dcd/scipy-1.11.3-cp311-cp311-win_amd64.whl.metadata\n",
      "  Using cached scipy-1.11.3-cp311-cp311-win_amd64.whl.metadata (60 kB)\n",
      "Requirement already satisfied: pandas>=1.2 in c:\\python311\\lib\\site-packages (from seaborn->-r Requirements.txt (line 2)) (2.0.3)\n",
      "Collecting matplotlib!=3.6.1,>=3.3 (from seaborn->-r Requirements.txt (line 2))\n",
      "  Obtaining dependency information for matplotlib!=3.6.1,>=3.3 from https://files.pythonhosted.org/packages/40/d9/c1784db9db0d484c8e5deeafbaac0d6ed66e165c6eb4a74fb43a5fa947d9/matplotlib-3.8.0-cp311-cp311-win_amd64.whl.metadata\n",
      "  Using cached matplotlib-3.8.0-cp311-cp311-win_amd64.whl.metadata (5.9 kB)\n",
      "Collecting cmdstanpy>=1.0.4 (from Prophet->-r Requirements.txt (line 3))\n",
      "  Obtaining dependency information for cmdstanpy>=1.0.4 from https://files.pythonhosted.org/packages/e8/e2/2ddc273e726680a3c816f9a05c6726d57d61820fa7ab4753ed282d0a8bbe/cmdstanpy-1.2.0-py3-none-any.whl.metadata\n",
      "  Downloading cmdstanpy-1.2.0-py3-none-any.whl.metadata (3.9 kB)\n",
      "Collecting holidays>=0.25 (from Prophet->-r Requirements.txt (line 3))\n",
      "  Obtaining dependency information for holidays>=0.25 from https://files.pythonhosted.org/packages/2c/d8/0a6ae9402b5809135026ae6e8aa7802ad613429ffe13cc2727822f33a6b4/holidays-0.35-py3-none-any.whl.metadata\n",
      "  Downloading holidays-0.35-py3-none-any.whl.metadata (19 kB)\n",
      "Requirement already satisfied: tqdm>=4.36.1 in c:\\python311\\lib\\site-packages (from Prophet->-r Requirements.txt (line 3)) (4.66.1)\n",
      "Collecting importlib-resources (from Prophet->-r Requirements.txt (line 3))\n",
      "  Obtaining dependency information for importlib-resources from https://files.pythonhosted.org/packages/65/6e/09d8816b5cb7a4006ef8ad1717a2703ad9f331dae9717d9f22488a2d6469/importlib_resources-6.1.0-py3-none-any.whl.metadata\n",
      "  Using cached importlib_resources-6.1.0-py3-none-any.whl.metadata (4.1 kB)\n",
      "Collecting stanio~=0.3.0 (from cmdstanpy>=1.0.4->Prophet->-r Requirements.txt (line 3))\n",
      "  Obtaining dependency information for stanio~=0.3.0 from https://files.pythonhosted.org/packages/26/01/e2579afa3ad1eade8b54bf5b9e45790d219681b1f8f97edbd2f18c4e1a7d/stanio-0.3.0-py3-none-any.whl.metadata\n",
      "  Downloading stanio-0.3.0-py3-none-any.whl.metadata (963 bytes)\n",
      "Requirement already satisfied: python-dateutil in c:\\python311\\lib\\site-packages (from holidays>=0.25->Prophet->-r Requirements.txt (line 3)) (2.8.2)\n",
      "Collecting contourpy>=1.0.1 (from matplotlib!=3.6.1,>=3.3->seaborn->-r Requirements.txt (line 2))\n",
      "  Obtaining dependency information for contourpy>=1.0.1 from https://files.pythonhosted.org/packages/e5/76/94bc17eb868f8c7397f8fdfdeae7661c1b9a35f3a7219da308596e8c252a/contourpy-1.1.1-cp311-cp311-win_amd64.whl.metadata\n",
      "  Using cached contourpy-1.1.1-cp311-cp311-win_amd64.whl.metadata (5.9 kB)\n",
      "Collecting cycler>=0.10 (from matplotlib!=3.6.1,>=3.3->seaborn->-r Requirements.txt (line 2))\n",
      "  Obtaining dependency information for cycler>=0.10 from https://files.pythonhosted.org/packages/e7/05/c19819d5e3d95294a6f5947fb9b9629efb316b96de511b418c53d245aae6/cycler-0.12.1-py3-none-any.whl.metadata\n",
      "  Downloading cycler-0.12.1-py3-none-any.whl.metadata (3.8 kB)\n",
      "Collecting fonttools>=4.22.0 (from matplotlib!=3.6.1,>=3.3->seaborn->-r Requirements.txt (line 2))\n",
      "  Obtaining dependency information for fonttools>=4.22.0 from https://files.pythonhosted.org/packages/ae/f6/724d2d236797ea7479a5a7ec8e69c2bee60cad70273cf25078810415ae2d/fonttools-4.43.1-cp311-cp311-win_amd64.whl.metadata\n",
      "  Downloading fonttools-4.43.1-cp311-cp311-win_amd64.whl.metadata (155 kB)\n",
      "     ---------------------------------------- 0.0/155.5 kB ? eta -:--:--\n",
      "     --------------- ----------------------- 61.4/155.5 kB 3.2 MB/s eta 0:00:01\n",
      "     -------------------------------------- 155.5/155.5 kB 2.3 MB/s eta 0:00:00\n",
      "Collecting kiwisolver>=1.0.1 (from matplotlib!=3.6.1,>=3.3->seaborn->-r Requirements.txt (line 2))\n",
      "  Obtaining dependency information for kiwisolver>=1.0.1 from https://files.pythonhosted.org/packages/1e/37/d3c2d4ba2719059a0f12730947bbe1ad5ee8bff89e8c35319dcb2c9ddb4c/kiwisolver-1.4.5-cp311-cp311-win_amd64.whl.metadata\n",
      "  Using cached kiwisolver-1.4.5-cp311-cp311-win_amd64.whl.metadata (6.5 kB)\n",
      "Requirement already satisfied: packaging>=20.0 in c:\\python311\\lib\\site-packages (from matplotlib!=3.6.1,>=3.3->seaborn->-r Requirements.txt (line 2)) (23.1)\n",
      "Collecting pillow>=6.2.0 (from matplotlib!=3.6.1,>=3.3->seaborn->-r Requirements.txt (line 2))\n",
      "  Obtaining dependency information for pillow>=6.2.0 from https://files.pythonhosted.org/packages/b1/38/31def4109acd4db10672df6f806b175c0d21458f845ddc0890e43238ba7c/Pillow-10.1.0-cp311-cp311-win_amd64.whl.metadata\n",
      "  Downloading Pillow-10.1.0-cp311-cp311-win_amd64.whl.metadata (9.6 kB)\n",
      "Collecting pyparsing>=2.3.1 (from matplotlib!=3.6.1,>=3.3->seaborn->-r Requirements.txt (line 2))\n",
      "  Obtaining dependency information for pyparsing>=2.3.1 from https://files.pythonhosted.org/packages/39/92/8486ede85fcc088f1b3dba4ce92dd29d126fd96b0008ea213167940a2475/pyparsing-3.1.1-py3-none-any.whl.metadata\n",
      "  Using cached pyparsing-3.1.1-py3-none-any.whl.metadata (5.1 kB)\n",
      "Requirement already satisfied: pytz>=2020.1 in c:\\python311\\lib\\site-packages (from pandas>=1.2->seaborn->-r Requirements.txt (line 2)) (2023.3)\n",
      "Requirement already satisfied: tzdata>=2022.1 in c:\\python311\\lib\\site-packages (from pandas>=1.2->seaborn->-r Requirements.txt (line 2)) (2023.3)\n",
      "Requirement already satisfied: colorama in c:\\python311\\lib\\site-packages (from tqdm>=4.36.1->Prophet->-r Requirements.txt (line 3)) (0.4.6)\n",
      "Requirement already satisfied: six>=1.5 in c:\\python311\\lib\\site-packages (from python-dateutil->holidays>=0.25->Prophet->-r Requirements.txt (line 3)) (1.16.0)\n",
      "Downloading lightgbm-4.1.0-py3-none-win_amd64.whl (1.3 MB)\n",
      "   ---------------------------------------- 0.0/1.3 MB ? eta -:--:--\n",
      "   - -------------------------------------- 0.1/1.3 MB 3.2 MB/s eta 0:00:01\n",
      "   ---- ----------------------------------- 0.2/1.3 MB 2.0 MB/s eta 0:00:01\n",
      "   ------- -------------------------------- 0.2/1.3 MB 1.9 MB/s eta 0:00:01\n",
      "   ---------- ----------------------------- 0.3/1.3 MB 2.0 MB/s eta 0:00:01\n",
      "   ------------ --------------------------- 0.4/1.3 MB 2.0 MB/s eta 0:00:01\n",
      "   --------------- ------------------------ 0.5/1.3 MB 1.9 MB/s eta 0:00:01\n",
      "   ------------------ --------------------- 0.6/1.3 MB 1.9 MB/s eta 0:00:01\n",
      "   --------------------- ------------------ 0.7/1.3 MB 1.9 MB/s eta 0:00:01\n",
      "   ----------------------- ---------------- 0.8/1.3 MB 1.9 MB/s eta 0:00:01\n",
      "   --------------------------- ------------ 0.9/1.3 MB 2.0 MB/s eta 0:00:01\n",
      "   ----------------------------- ---------- 1.0/1.3 MB 1.9 MB/s eta 0:00:01\n",
      "   -------------------------------- ------- 1.1/1.3 MB 1.9 MB/s eta 0:00:01\n",
      "   ----------------------------------- ---- 1.2/1.3 MB 2.0 MB/s eta 0:00:01\n",
      "   -------------------------------------- - 1.3/1.3 MB 1.9 MB/s eta 0:00:01\n",
      "   ---------------------------------------- 1.3/1.3 MB 1.9 MB/s eta 0:00:00\n",
      "Downloading seaborn-0.13.0-py3-none-any.whl (294 kB)\n",
      "   ---------------------------------------- 0.0/294.6 kB ? eta -:--:--\n",
      "   ------------ --------------------------- 92.2/294.6 kB 2.6 MB/s eta 0:00:01\n",
      "   -------------------------- ------------- 194.6/294.6 kB 2.4 MB/s eta 0:00:01\n",
      "   ------------------------------------- -- 276.5/294.6 kB 2.1 MB/s eta 0:00:01\n",
      "   ---------------------------------------- 294.6/294.6 kB 2.0 MB/s eta 0:00:00\n",
      "Downloading prophet-1.1.5-py3-none-win_amd64.whl (13.3 MB)\n",
      "   ---------------------------------------- 0.0/13.3 MB ? eta -:--:--\n",
      "   ---------------------------------------- 0.1/13.3 MB 1.7 MB/s eta 0:00:09\n",
      "   ---------------------------------------- 0.1/13.3 MB 1.4 MB/s eta 0:00:10\n",
      "    --------------------------------------- 0.2/13.3 MB 1.7 MB/s eta 0:00:08\n",
      "    --------------------------------------- 0.3/13.3 MB 1.9 MB/s eta 0:00:08\n",
      "   - -------------------------------------- 0.4/13.3 MB 2.0 MB/s eta 0:00:07\n",
      "   - -------------------------------------- 0.5/13.3 MB 1.9 MB/s eta 0:00:07\n",
      "   - -------------------------------------- 0.6/13.3 MB 2.0 MB/s eta 0:00:07\n",
      "   -- ------------------------------------- 0.7/13.3 MB 2.0 MB/s eta 0:00:07\n",
      "   -- ------------------------------------- 0.8/13.3 MB 1.9 MB/s eta 0:00:07\n",
      "   -- ------------------------------------- 0.9/13.3 MB 2.0 MB/s eta 0:00:07\n",
      "   -- ------------------------------------- 1.0/13.3 MB 2.0 MB/s eta 0:00:07\n",
      "   --- ------------------------------------ 1.1/13.3 MB 2.0 MB/s eta 0:00:07\n",
      "   --- ------------------------------------ 1.2/13.3 MB 2.0 MB/s eta 0:00:07\n",
      "   --- ------------------------------------ 1.2/13.3 MB 2.0 MB/s eta 0:00:07\n",
      "   ---- ----------------------------------- 1.4/13.3 MB 2.0 MB/s eta 0:00:07\n",
      "   ---- ----------------------------------- 1.5/13.3 MB 2.0 MB/s eta 0:00:07\n",
      "   ---- ----------------------------------- 1.5/13.3 MB 2.0 MB/s eta 0:00:06\n",
      "   ---- ----------------------------------- 1.6/13.3 MB 2.0 MB/s eta 0:00:06\n",
      "   ----- ---------------------------------- 1.7/13.3 MB 2.0 MB/s eta 0:00:06\n",
      "   ----- ---------------------------------- 1.9/13.3 MB 2.0 MB/s eta 0:00:06\n",
      "   ----- ---------------------------------- 2.0/13.3 MB 2.0 MB/s eta 0:00:06\n",
      "   ------ --------------------------------- 2.0/13.3 MB 2.0 MB/s eta 0:00:06\n",
      "   ------ --------------------------------- 2.1/13.3 MB 2.0 MB/s eta 0:00:06\n",
      "   ------ --------------------------------- 2.2/13.3 MB 2.0 MB/s eta 0:00:06\n",
      "   ------ --------------------------------- 2.3/13.3 MB 2.0 MB/s eta 0:00:06\n",
      "   ------- -------------------------------- 2.4/13.3 MB 2.0 MB/s eta 0:00:06\n",
      "   ------- -------------------------------- 2.5/13.3 MB 2.0 MB/s eta 0:00:06\n",
      "   ------- -------------------------------- 2.6/13.3 MB 2.0 MB/s eta 0:00:06\n",
      "   -------- ------------------------------- 2.7/13.3 MB 2.0 MB/s eta 0:00:06\n",
      "   -------- ------------------------------- 2.8/13.3 MB 2.0 MB/s eta 0:00:06\n",
      "   -------- ------------------------------- 2.9/13.3 MB 2.0 MB/s eta 0:00:06\n",
      "   -------- ------------------------------- 3.0/13.3 MB 2.0 MB/s eta 0:00:06\n",
      "   --------- ------------------------------ 3.0/13.3 MB 2.0 MB/s eta 0:00:06\n",
      "   --------- ------------------------------ 3.2/13.3 MB 2.0 MB/s eta 0:00:06\n",
      "   --------- ------------------------------ 3.2/13.3 MB 2.0 MB/s eta 0:00:06\n",
      "   --------- ------------------------------ 3.3/13.3 MB 2.0 MB/s eta 0:00:06\n",
      "   ---------- ----------------------------- 3.4/13.3 MB 2.0 MB/s eta 0:00:05\n",
      "   ---------- ----------------------------- 3.5/13.3 MB 2.0 MB/s eta 0:00:05\n",
      "   ---------- ----------------------------- 3.6/13.3 MB 2.0 MB/s eta 0:00:05\n",
      "   ----------- ---------------------------- 3.7/13.3 MB 2.0 MB/s eta 0:00:05\n",
      "   ----------- ---------------------------- 3.8/13.3 MB 2.0 MB/s eta 0:00:05\n",
      "   ----------- ---------------------------- 3.9/13.3 MB 2.0 MB/s eta 0:00:05\n",
      "   ------------ --------------------------- 4.0/13.3 MB 2.0 MB/s eta 0:00:05\n",
      "   ------------ --------------------------- 4.1/13.3 MB 2.0 MB/s eta 0:00:05\n",
      "   ------------ --------------------------- 4.2/13.3 MB 2.0 MB/s eta 0:00:05\n",
      "   ------------ --------------------------- 4.3/13.3 MB 2.0 MB/s eta 0:00:05\n",
      "   ------------- -------------------------- 4.4/13.3 MB 2.0 MB/s eta 0:00:05\n",
      "   ------------- -------------------------- 4.5/13.3 MB 2.0 MB/s eta 0:00:05\n",
      "   ------------- -------------------------- 4.6/13.3 MB 2.0 MB/s eta 0:00:05\n",
      "   ------------- -------------------------- 4.6/13.3 MB 2.0 MB/s eta 0:00:05\n",
      "   -------------- ------------------------- 4.7/13.3 MB 2.0 MB/s eta 0:00:05\n",
      "   -------------- ------------------------- 4.8/13.3 MB 2.0 MB/s eta 0:00:05\n",
      "   -------------- ------------------------- 4.9/13.3 MB 2.0 MB/s eta 0:00:05\n",
      "   -------------- ------------------------- 5.0/13.3 MB 2.0 MB/s eta 0:00:05\n",
      "   --------------- ------------------------ 5.1/13.3 MB 2.0 MB/s eta 0:00:05\n",
      "   --------------- ------------------------ 5.2/13.3 MB 2.0 MB/s eta 0:00:05\n",
      "   --------------- ------------------------ 5.3/13.3 MB 2.0 MB/s eta 0:00:05\n",
      "   ---------------- ----------------------- 5.3/13.3 MB 2.0 MB/s eta 0:00:05\n",
      "   ---------------- ----------------------- 5.4/13.3 MB 2.0 MB/s eta 0:00:04\n",
      "   ---------------- ----------------------- 5.5/13.3 MB 2.0 MB/s eta 0:00:04\n",
      "   ---------------- ----------------------- 5.6/13.3 MB 2.0 MB/s eta 0:00:04\n",
      "   ----------------- ---------------------- 5.7/13.3 MB 2.0 MB/s eta 0:00:04\n",
      "   ----------------- ---------------------- 5.8/13.3 MB 2.0 MB/s eta 0:00:04\n",
      "   ----------------- ---------------------- 5.9/13.3 MB 2.0 MB/s eta 0:00:04\n",
      "   ----------------- ---------------------- 6.0/13.3 MB 2.0 MB/s eta 0:00:04\n",
      "   ------------------ --------------------- 6.1/13.3 MB 2.0 MB/s eta 0:00:04\n",
      "   ------------------ --------------------- 6.2/13.3 MB 2.0 MB/s eta 0:00:04\n",
      "   ------------------ --------------------- 6.3/13.3 MB 2.0 MB/s eta 0:00:04\n",
      "   ------------------- -------------------- 6.4/13.3 MB 2.0 MB/s eta 0:00:04\n",
      "   ------------------- -------------------- 6.4/13.3 MB 2.0 MB/s eta 0:00:04\n",
      "   ------------------- -------------------- 6.5/13.3 MB 2.0 MB/s eta 0:00:04\n",
      "   ------------------- -------------------- 6.6/13.3 MB 2.0 MB/s eta 0:00:04\n",
      "   -------------------- ------------------- 6.7/13.3 MB 2.0 MB/s eta 0:00:04\n",
      "   -------------------- ------------------- 6.8/13.3 MB 2.0 MB/s eta 0:00:04\n",
      "   -------------------- ------------------- 6.8/13.3 MB 2.0 MB/s eta 0:00:04\n",
      "   -------------------- ------------------- 6.9/13.3 MB 1.9 MB/s eta 0:00:04\n",
      "   --------------------- ------------------ 7.0/13.3 MB 1.9 MB/s eta 0:00:04\n",
      "   --------------------- ------------------ 7.1/13.3 MB 1.9 MB/s eta 0:00:04\n",
      "   --------------------- ------------------ 7.2/13.3 MB 1.9 MB/s eta 0:00:04\n",
      "   --------------------- ------------------ 7.3/13.3 MB 1.9 MB/s eta 0:00:04\n",
      "   ---------------------- ----------------- 7.3/13.3 MB 1.9 MB/s eta 0:00:04\n",
      "   ---------------------- ----------------- 7.4/13.3 MB 1.9 MB/s eta 0:00:04\n",
      "   ---------------------- ----------------- 7.5/13.3 MB 1.9 MB/s eta 0:00:04\n",
      "   ---------------------- ----------------- 7.6/13.3 MB 1.9 MB/s eta 0:00:03\n",
      "   ----------------------- ---------------- 7.7/13.3 MB 1.9 MB/s eta 0:00:03\n",
      "   ----------------------- ---------------- 7.8/13.3 MB 1.9 MB/s eta 0:00:03\n",
      "   ----------------------- ---------------- 7.9/13.3 MB 1.9 MB/s eta 0:00:03\n",
      "   ----------------------- ---------------- 7.9/13.3 MB 1.9 MB/s eta 0:00:03\n",
      "   ------------------------ --------------- 8.0/13.3 MB 1.9 MB/s eta 0:00:03\n",
      "   ------------------------ --------------- 8.1/13.3 MB 1.9 MB/s eta 0:00:03\n",
      "   ------------------------ --------------- 8.2/13.3 MB 1.9 MB/s eta 0:00:03\n",
      "   ------------------------ --------------- 8.3/13.3 MB 1.9 MB/s eta 0:00:03\n",
      "   ------------------------- -------------- 8.3/13.3 MB 1.9 MB/s eta 0:00:03\n",
      "   ------------------------- -------------- 8.5/13.3 MB 1.9 MB/s eta 0:00:03\n",
      "   ------------------------- -------------- 8.6/13.3 MB 1.9 MB/s eta 0:00:03\n",
      "   ------------------------- -------------- 8.6/13.3 MB 1.9 MB/s eta 0:00:03\n",
      "   -------------------------- ------------- 8.7/13.3 MB 1.9 MB/s eta 0:00:03\n",
      "   -------------------------- ------------- 8.8/13.3 MB 1.9 MB/s eta 0:00:03\n",
      "   -------------------------- ------------- 8.9/13.3 MB 1.9 MB/s eta 0:00:03\n",
      "   -------------------------- ------------- 9.0/13.3 MB 1.9 MB/s eta 0:00:03\n",
      "   --------------------------- ------------ 9.1/13.3 MB 1.9 MB/s eta 0:00:03\n",
      "   --------------------------- ------------ 9.2/13.3 MB 1.9 MB/s eta 0:00:03\n",
      "   --------------------------- ------------ 9.2/13.3 MB 1.9 MB/s eta 0:00:03\n",
      "   --------------------------- ------------ 9.3/13.3 MB 1.9 MB/s eta 0:00:03\n",
      "   ---------------------------- ----------- 9.4/13.3 MB 1.9 MB/s eta 0:00:03\n",
      "   ---------------------------- ----------- 9.5/13.3 MB 1.9 MB/s eta 0:00:02\n",
      "   ---------------------------- ----------- 9.6/13.3 MB 1.9 MB/s eta 0:00:02\n",
      "   ----------------------------- ---------- 9.7/13.3 MB 1.9 MB/s eta 0:00:02\n",
      "   ----------------------------- ---------- 9.8/13.3 MB 1.9 MB/s eta 0:00:02\n",
      "   ----------------------------- ---------- 9.9/13.3 MB 1.9 MB/s eta 0:00:02\n",
      "   ----------------------------- ---------- 10.0/13.3 MB 1.9 MB/s eta 0:00:02\n",
      "   ------------------------------ --------- 10.1/13.3 MB 1.9 MB/s eta 0:00:02\n",
      "   ------------------------------ --------- 10.2/13.3 MB 1.9 MB/s eta 0:00:02\n",
      "   ------------------------------ --------- 10.3/13.3 MB 1.9 MB/s eta 0:00:02\n",
      "   ------------------------------- -------- 10.4/13.3 MB 1.9 MB/s eta 0:00:02\n",
      "   ------------------------------- -------- 10.4/13.3 MB 1.9 MB/s eta 0:00:02\n",
      "   ------------------------------- -------- 10.5/13.3 MB 1.9 MB/s eta 0:00:02\n",
      "   ------------------------------- -------- 10.6/13.3 MB 1.9 MB/s eta 0:00:02\n",
      "   -------------------------------- ------- 10.7/13.3 MB 1.9 MB/s eta 0:00:02\n",
      "   -------------------------------- ------- 10.8/13.3 MB 1.9 MB/s eta 0:00:02\n",
      "   -------------------------------- ------- 10.9/13.3 MB 1.9 MB/s eta 0:00:02\n",
      "   --------------------------------- ------ 11.0/13.3 MB 1.9 MB/s eta 0:00:02\n",
      "   --------------------------------- ------ 11.1/13.3 MB 1.9 MB/s eta 0:00:02\n",
      "   --------------------------------- ------ 11.2/13.3 MB 1.9 MB/s eta 0:00:02\n",
      "   --------------------------------- ------ 11.3/13.3 MB 1.9 MB/s eta 0:00:02\n",
      "   ---------------------------------- ----- 11.4/13.3 MB 1.9 MB/s eta 0:00:02\n",
      "   ---------------------------------- ----- 11.4/13.3 MB 1.9 MB/s eta 0:00:01\n",
      "   ---------------------------------- ----- 11.6/13.3 MB 1.9 MB/s eta 0:00:01\n",
      "   ---------------------------------- ----- 11.7/13.3 MB 1.9 MB/s eta 0:00:01\n",
      "   ----------------------------------- ---- 11.7/13.3 MB 1.9 MB/s eta 0:00:01\n",
      "   ----------------------------------- ---- 11.8/13.3 MB 1.9 MB/s eta 0:00:01\n",
      "   ----------------------------------- ---- 11.9/13.3 MB 1.9 MB/s eta 0:00:01\n",
      "   ------------------------------------ --- 12.0/13.3 MB 1.9 MB/s eta 0:00:01\n",
      "   ------------------------------------ --- 12.1/13.3 MB 1.9 MB/s eta 0:00:01\n",
      "   ------------------------------------ --- 12.2/13.3 MB 1.9 MB/s eta 0:00:01\n",
      "   ------------------------------------ --- 12.3/13.3 MB 1.9 MB/s eta 0:00:01\n",
      "   ------------------------------------- -- 12.4/13.3 MB 1.9 MB/s eta 0:00:01\n",
      "   ------------------------------------- -- 12.5/13.3 MB 1.9 MB/s eta 0:00:01\n",
      "   ------------------------------------- -- 12.5/13.3 MB 1.9 MB/s eta 0:00:01\n",
      "   ------------------------------------- -- 12.6/13.3 MB 1.9 MB/s eta 0:00:01\n",
      "   -------------------------------------- - 12.7/13.3 MB 1.9 MB/s eta 0:00:01\n",
      "   -------------------------------------- - 12.8/13.3 MB 1.9 MB/s eta 0:00:01\n",
      "   -------------------------------------- - 12.9/13.3 MB 1.9 MB/s eta 0:00:01\n",
      "   ---------------------------------------  13.0/13.3 MB 1.9 MB/s eta 0:00:01\n",
      "   ---------------------------------------  13.1/13.3 MB 1.9 MB/s eta 0:00:01\n",
      "   ---------------------------------------  13.2/13.3 MB 1.9 MB/s eta 0:00:01\n",
      "   ---------------------------------------  13.3/13.3 MB 1.9 MB/s eta 0:00:01\n",
      "   ---------------------------------------  13.3/13.3 MB 1.9 MB/s eta 0:00:01\n",
      "   ---------------------------------------  13.3/13.3 MB 1.9 MB/s eta 0:00:01\n",
      "   ---------------------------------------- 13.3/13.3 MB 1.9 MB/s eta 0:00:00\n",
      "Downloading cmdstanpy-1.2.0-py3-none-any.whl (93 kB)\n",
      "   ---------------------------------------- 0.0/93.0 kB ? eta -:--:--\n",
      "   -------------------------- ------------- 61.4/93.0 kB 1.7 MB/s eta 0:00:01\n",
      "   ---------------------------------------- 93.0/93.0 kB 1.8 MB/s eta 0:00:00\n",
      "Downloading holidays-0.35-py3-none-any.whl (800 kB)\n",
      "   ---------------------------------------- 0.0/801.0 kB ? eta -:--:--\n",
      "   ---- ----------------------------------- 92.2/801.0 kB 1.7 MB/s eta 0:00:01\n",
      "   --------- ------------------------------ 194.6/801.0 kB 2.0 MB/s eta 0:00:01\n",
      "   ------------ --------------------------- 256.0/801.0 kB 2.0 MB/s eta 0:00:01\n",
      "   ------------------ --------------------- 368.6/801.0 kB 1.9 MB/s eta 0:00:01\n",
      "   ---------------------- ----------------- 450.6/801.0 kB 1.9 MB/s eta 0:00:01\n",
      "   --------------------------- ------------ 542.7/801.0 kB 1.9 MB/s eta 0:00:01\n",
      "   ------------------------------- -------- 634.9/801.0 kB 1.9 MB/s eta 0:00:01\n",
      "   ----------------------------------- ---- 716.8/801.0 kB 1.9 MB/s eta 0:00:01\n",
      "   ---------------------------------------- 801.0/801.0 kB 1.9 MB/s eta 0:00:00\n",
      "Using cached matplotlib-3.8.0-cp311-cp311-win_amd64.whl (7.6 MB)\n",
      "Using cached importlib_resources-6.1.0-py3-none-any.whl (33 kB)\n",
      "Using cached scipy-1.11.3-cp311-cp311-win_amd64.whl (44.1 MB)\n",
      "Using cached contourpy-1.1.1-cp311-cp311-win_amd64.whl (480 kB)\n",
      "Downloading cycler-0.12.1-py3-none-any.whl (8.3 kB)\n",
      "Downloading fonttools-4.43.1-cp311-cp311-win_amd64.whl (2.1 MB)\n",
      "   ---------------------------------------- 0.0/2.1 MB ? eta -:--:--\n",
      "   - -------------------------------------- 0.1/2.1 MB 1.1 MB/s eta 0:00:02\n",
      "   -- ------------------------------------- 0.2/2.1 MB 1.8 MB/s eta 0:00:02\n",
      "   ---- ----------------------------------- 0.3/2.1 MB 2.0 MB/s eta 0:00:01\n",
      "   ------ --------------------------------- 0.4/2.1 MB 2.0 MB/s eta 0:00:01\n",
      "   -------- ------------------------------- 0.5/2.1 MB 1.9 MB/s eta 0:00:01\n",
      "   --------- ------------------------------ 0.5/2.1 MB 1.9 MB/s eta 0:00:01\n",
      "   ----------- ---------------------------- 0.6/2.1 MB 1.9 MB/s eta 0:00:01\n",
      "   ------------- -------------------------- 0.7/2.1 MB 1.9 MB/s eta 0:00:01\n",
      "   -------------- ------------------------- 0.8/2.1 MB 1.9 MB/s eta 0:00:01\n",
      "   ---------------- ----------------------- 0.9/2.1 MB 1.9 MB/s eta 0:00:01\n",
      "   ----------------- ---------------------- 0.9/2.1 MB 1.9 MB/s eta 0:00:01\n",
      "   ------------------- -------------------- 1.0/2.1 MB 1.9 MB/s eta 0:00:01\n",
      "   -------------------- ------------------- 1.1/2.1 MB 1.9 MB/s eta 0:00:01\n",
      "   ---------------------- ----------------- 1.2/2.1 MB 1.9 MB/s eta 0:00:01\n",
      "   ------------------------ --------------- 1.3/2.1 MB 1.9 MB/s eta 0:00:01\n",
      "   ------------------------- -------------- 1.4/2.1 MB 1.9 MB/s eta 0:00:01\n",
      "   --------------------------- ------------ 1.5/2.1 MB 1.9 MB/s eta 0:00:01\n",
      "   ----------------------------- ---------- 1.6/2.1 MB 1.9 MB/s eta 0:00:01\n",
      "   ------------------------------ --------- 1.6/2.1 MB 1.9 MB/s eta 0:00:01\n",
      "   ------------------------------- -------- 1.7/2.1 MB 1.9 MB/s eta 0:00:01\n",
      "   --------------------------------- ------ 1.8/2.1 MB 1.9 MB/s eta 0:00:01\n",
      "   ----------------------------------- ---- 1.9/2.1 MB 1.9 MB/s eta 0:00:01\n",
      "   ------------------------------------ --- 2.0/2.1 MB 1.9 MB/s eta 0:00:01\n",
      "   -------------------------------------- - 2.1/2.1 MB 1.9 MB/s eta 0:00:01\n",
      "   ---------------------------------------- 2.1/2.1 MB 1.9 MB/s eta 0:00:00\n",
      "Using cached kiwisolver-1.4.5-cp311-cp311-win_amd64.whl (56 kB)\n",
      "Downloading Pillow-10.1.0-cp311-cp311-win_amd64.whl (2.6 MB)\n",
      "   ---------------------------------------- 0.0/2.6 MB ? eta -:--:--\n",
      "   - -------------------------------------- 0.1/2.6 MB 2.3 MB/s eta 0:00:02\n",
      "   -- ------------------------------------- 0.2/2.6 MB 1.7 MB/s eta 0:00:02\n",
      "   --- ------------------------------------ 0.2/2.6 MB 1.9 MB/s eta 0:00:02\n",
      "   ----- ---------------------------------- 0.3/2.6 MB 1.8 MB/s eta 0:00:02\n",
      "   ------ --------------------------------- 0.4/2.6 MB 1.8 MB/s eta 0:00:02\n",
      "   ------- -------------------------------- 0.5/2.6 MB 1.8 MB/s eta 0:00:02\n",
      "   -------- ------------------------------- 0.6/2.6 MB 1.9 MB/s eta 0:00:02\n",
      "   ---------- ----------------------------- 0.7/2.6 MB 1.8 MB/s eta 0:00:02\n",
      "   ----------- ---------------------------- 0.8/2.6 MB 1.9 MB/s eta 0:00:01\n",
      "   ------------ --------------------------- 0.8/2.6 MB 1.8 MB/s eta 0:00:01\n",
      "   -------------- ------------------------- 0.9/2.6 MB 1.8 MB/s eta 0:00:01\n",
      "   --------------- ------------------------ 1.0/2.6 MB 1.8 MB/s eta 0:00:01\n",
      "   ---------------- ----------------------- 1.1/2.6 MB 1.8 MB/s eta 0:00:01\n",
      "   ----------------- ---------------------- 1.2/2.6 MB 1.8 MB/s eta 0:00:01\n",
      "   ------------------ --------------------- 1.2/2.6 MB 1.8 MB/s eta 0:00:01\n",
      "   ------------------- -------------------- 1.3/2.6 MB 1.7 MB/s eta 0:00:01\n",
      "   -------------------- ------------------- 1.4/2.6 MB 1.8 MB/s eta 0:00:01\n",
      "   ---------------------- ----------------- 1.5/2.6 MB 1.8 MB/s eta 0:00:01\n",
      "   ----------------------- ---------------- 1.5/2.6 MB 1.7 MB/s eta 0:00:01\n",
      "   ------------------------ --------------- 1.6/2.6 MB 1.8 MB/s eta 0:00:01\n",
      "   ------------------------- -------------- 1.7/2.6 MB 1.8 MB/s eta 0:00:01\n",
      "   --------------------------- ------------ 1.8/2.6 MB 1.8 MB/s eta 0:00:01\n",
      "   --------------------------- ------------ 1.8/2.6 MB 1.7 MB/s eta 0:00:01\n",
      "   ----------------------------- ---------- 1.9/2.6 MB 1.8 MB/s eta 0:00:01\n",
      "   ------------------------------ --------- 2.0/2.6 MB 1.8 MB/s eta 0:00:01\n",
      "   ------------------------------- -------- 2.1/2.6 MB 1.8 MB/s eta 0:00:01\n",
      "   --------------------------------- ------ 2.2/2.6 MB 1.8 MB/s eta 0:00:01\n",
      "   ---------------------------------- ----- 2.2/2.6 MB 1.7 MB/s eta 0:00:01\n",
      "   ----------------------------------- ---- 2.3/2.6 MB 1.8 MB/s eta 0:00:01\n",
      "   ------------------------------------- -- 2.4/2.6 MB 1.8 MB/s eta 0:00:01\n",
      "   -------------------------------------- - 2.5/2.6 MB 1.8 MB/s eta 0:00:01\n",
      "   ---------------------------------------  2.6/2.6 MB 1.7 MB/s eta 0:00:01\n",
      "   ---------------------------------------- 2.6/2.6 MB 1.7 MB/s eta 0:00:00\n",
      "Using cached pyparsing-3.1.1-py3-none-any.whl (103 kB)\n",
      "Downloading stanio-0.3.0-py3-none-any.whl (6.2 kB)\n",
      "Installing collected packages: stanio, scipy, pyparsing, pillow, kiwisolver, importlib-resources, fonttools, cycler, contourpy, matplotlib, lightgbm, holidays, seaborn, cmdstanpy, Prophet\n",
      "Note: you may need to restart the kernel to use updated packages.\n"
     ]
    },
    {
     "name": "stderr",
     "output_type": "stream",
     "text": [
      "ERROR: Could not install packages due to an OSError: [Errno 13] Permission denied: 'c:\\\\Python311\\\\share\\\\man\\\\man1\\\\ttx.1'\n",
      "Consider using the `--user` option or check the permissions.\n",
      "\n",
      "\n",
      "[notice] A new release of pip is available: 23.2.1 -> 23.3\n",
      "[notice] To update, run: python.exe -m pip install --upgrade pip\n"
     ]
    }
   ],
   "source": [
    "# %pip install lightgbm\n",
    "# %pip install seaborn\n",
    "# %pip install Prophet\n",
    "%pip install -r  \"Requirements.txt\""
   ]
  },
  {
   "cell_type": "code",
   "execution_count": 2,
   "id": "d99a3140-8d64-44fd-89ae-3f5b0583d574",
   "metadata": {
    "tags": []
   },
   "outputs": [
    {
     "ename": "ModuleNotFoundError",
     "evalue": "No module named 'lightgbm'",
     "output_type": "error",
     "traceback": [
      "\u001b[1;31m---------------------------------------------------------------------------\u001b[0m",
      "\u001b[1;31mModuleNotFoundError\u001b[0m                       Traceback (most recent call last)",
      "\u001b[1;32mc:\\Users\\theon\\Desktop\\Light GBM\\LightGBM.ipynb Cell 4\u001b[0m line \u001b[0;36m2\n\u001b[0;32m      <a href='vscode-notebook-cell:/c%3A/Users/theon/Desktop/Light%20GBM/LightGBM.ipynb#W3sZmlsZQ%3D%3D?line=0'>1</a>\u001b[0m \u001b[39m# import os\u001b[39;00m\n\u001b[1;32m----> <a href='vscode-notebook-cell:/c%3A/Users/theon/Desktop/Light%20GBM/LightGBM.ipynb#W3sZmlsZQ%3D%3D?line=1'>2</a>\u001b[0m \u001b[39mimport\u001b[39;00m \u001b[39mlightgbm\u001b[39;00m \u001b[39mas\u001b[39;00m \u001b[39mlgb\u001b[39;00m\n\u001b[0;32m      <a href='vscode-notebook-cell:/c%3A/Users/theon/Desktop/Light%20GBM/LightGBM.ipynb#W3sZmlsZQ%3D%3D?line=2'>3</a>\u001b[0m \u001b[39mimport\u001b[39;00m \u001b[39mpandas\u001b[39;00m \u001b[39mas\u001b[39;00m \u001b[39mpd\u001b[39;00m\n\u001b[0;32m      <a href='vscode-notebook-cell:/c%3A/Users/theon/Desktop/Light%20GBM/LightGBM.ipynb#W3sZmlsZQ%3D%3D?line=3'>4</a>\u001b[0m \u001b[39mimport\u001b[39;00m \u001b[39mnumpy\u001b[39;00m \u001b[39mas\u001b[39;00m \u001b[39mnp\u001b[39;00m\n",
      "\u001b[1;31mModuleNotFoundError\u001b[0m: No module named 'lightgbm'"
     ]
    }
   ],
   "source": [
    "# import os\n",
    "import lightgbm as lgb\n",
    "import pandas as pd\n",
    "import numpy as np\n",
    "from sklearn.model_selection import train_test_split\n",
    "from sklearn.metrics import mean_absolute_percentage_error\n",
    "import matplotlib.pyplot as plt\n",
    "import seaborn as sns"
   ]
  },
  {
   "cell_type": "code",
   "execution_count": 7,
   "id": "16704e68-f240-4e8b-aac6-bf4528b57bca",
   "metadata": {
    "tags": []
   },
   "outputs": [],
   "source": [
    "#information on holiday dataset\n",
    "\n",
    "holidays = pd.read_csv('/home/ec2-user/SageMaker/Datasets/holidays_events.csv')\n",
    "sorted_hols = holidays.sort_values(['date', 'locale'])\n",
    "del holidays\n",
    "sorted_hols = sorted_hols.drop_duplicates(subset=['date'], keep='last')\n",
    "\n",
    "#information on stores dataset\n",
    "stores = pd.read_csv('/home/ec2-user/SageMaker/Datasets/stores.csv')"
   ]
  },
  {
   "cell_type": "code",
   "execution_count": 8,
   "id": "2a9a5394",
   "metadata": {
    "tags": []
   },
   "outputs": [],
   "source": [
    "train = pd.read_csv('/home/ec2-user/SageMaker/Datasets/train.csv', index_col='id')\n",
    "temp = train.merge(stores,\n",
    "                   on='store_nbr',\n",
    "                   how='left')"
   ]
  },
  {
   "cell_type": "code",
   "execution_count": 9,
   "id": "d8f55dce-ff24-4927-9046-8e977a72f300",
   "metadata": {
    "tags": []
   },
   "outputs": [],
   "source": [
    "National_holidays = sorted_hols.loc[sorted_hols['locale'] == 'National'].drop(['locale_name','locale'], axis='columns')\n",
    "# National_holidays.head()\n",
    "Regional_holidays = sorted_hols.loc[sorted_hols['locale'] == 'Regional'].drop(['locale'], axis='columns')\n",
    "# Regional_holidays.head()\n",
    "Local_holidays = sorted_hols.loc[sorted_hols['locale'] == 'Local'].drop(['locale'], axis='columns')\n",
    "# Local_holidays.head()"
   ]
  },
  {
   "cell_type": "code",
   "execution_count": 10,
   "id": "a7d533f8-4c9e-42e1-a9c1-f46728196b70",
   "metadata": {
    "tags": []
   },
   "outputs": [],
   "source": [
    "# reseting all holidays\n",
    "Local_holidays.shape\n",
    "National_holidays = National_holidays.reset_index(drop=True)\n",
    "Regional_holidays = Regional_holidays.reset_index(drop=True)\n",
    "Local_holidays = Local_holidays.reset_index(drop=True)"
   ]
  },
  {
   "cell_type": "code",
   "execution_count": 11,
   "id": "69568900-6d3f-4cce-9f1b-052d265a0ded",
   "metadata": {
    "tags": []
   },
   "outputs": [],
   "source": [
    "test = temp.merge(National_holidays, how='left', on='date')\n",
    "test = test.dropna()"
   ]
  },
  {
   "cell_type": "code",
   "execution_count": 12,
   "id": "332c305b-516c-4e5a-a2fa-a0730ac7029f",
   "metadata": {
    "tags": []
   },
   "outputs": [],
   "source": [
    "test1 = temp.merge(Regional_holidays, how='right', left_on=['date','state'],right_on=['date', 'locale_name'])\n",
    "test1 = test1.dropna()\n",
    "test1 = test1.drop(['locale_name'], axis='columns')"
   ]
  },
  {
   "cell_type": "code",
   "execution_count": 13,
   "id": "34bf7027-4453-4f1b-8359-15a79741531e",
   "metadata": {
    "tags": []
   },
   "outputs": [],
   "source": [
    "test2 = temp.merge(Local_holidays, how='right', left_on=['date','city'],right_on=['date', 'locale_name'])\n",
    "test2 = test2.dropna()\n",
    "test2 = test2.drop(['locale_name'], axis='columns')"
   ]
  },
  {
   "cell_type": "code",
   "execution_count": 14,
   "id": "c4fb1acf-9239-410b-b333-e6fe1dd86e97",
   "metadata": {
    "tags": []
   },
   "outputs": [],
   "source": [
    "array = [test, test1, test2]\n",
    "result = pd.concat(array)\n"
   ]
  },
  {
   "cell_type": "code",
   "execution_count": 15,
   "id": "fc3541ae-7bc3-4008-8a96-5157f3ba7f73",
   "metadata": {
    "tags": []
   },
   "outputs": [],
   "source": [
    "# del test\n",
    "# del test1\n",
    "# del test2\n",
    "# del array"
   ]
  },
  {
   "cell_type": "code",
   "execution_count": 16,
   "id": "b4848e5a-19bb-4e68-b214-f20506a55029",
   "metadata": {
    "tags": []
   },
   "outputs": [],
   "source": [
    "result = result.rename(columns={\"type_x\": \"type\", \"type_y\": \"holiday_type\"})"
   ]
  },
  {
   "cell_type": "code",
   "execution_count": 17,
   "id": "dd0ba1d4-feab-4169-9a46-95aca1575cf5",
   "metadata": {
    "tags": []
   },
   "outputs": [],
   "source": [
    "cols = list(temp.columns)"
   ]
  },
  {
   "cell_type": "code",
   "execution_count": 18,
   "id": "12957150-7e94-4e51-8f4b-6cb77d4bb420",
   "metadata": {
    "tags": []
   },
   "outputs": [],
   "source": [
    "output = temp.merge(result, how='left', on=cols)\n"
   ]
  },
  {
   "cell_type": "code",
   "execution_count": 19,
   "id": "9363c2c2-6687-4f04-8eea-2ce94b63fb3d",
   "metadata": {
    "tags": []
   },
   "outputs": [],
   "source": [
    "del temp\n",
    "del cols"
   ]
  },
  {
   "cell_type": "code",
   "execution_count": 20,
   "id": "64d7a3eb-2224-4863-bd47-aa2354016719",
   "metadata": {
    "tags": []
   },
   "outputs": [],
   "source": [
    "# output.to_csv('/home/ec2-user/SageMaker/Datasets/formatted.csv')"
   ]
  },
  {
   "cell_type": "code",
   "execution_count": 21,
   "id": "05a8e4e8-ded2-49e2-810f-41b20d42f4d2",
   "metadata": {
    "tags": []
   },
   "outputs": [],
   "source": [
    "# output['test'] = output.holiday_type + \" - \" + output.description\n",
    "output = output.drop(['description', 'cluster', 'transferred', 'state', 'holiday_type', 'type'], axis='columns')\n",
    "# output.test.nunique()"
   ]
  },
  {
   "cell_type": "code",
   "execution_count": 22,
   "id": "6da51f0b-2bbf-4c24-bef9-0a038c348433",
   "metadata": {
    "tags": []
   },
   "outputs": [],
   "source": [
    "output.date = pd.to_datetime(output.date)\n",
    "# output.date\n",
    "# output.date.map(lambda d: pd.to_datetime(d))"
   ]
  },
  {
   "cell_type": "code",
   "execution_count": 23,
   "id": "779d4fac-8b17-4131-83de-7db1dc0c6637",
   "metadata": {
    "tags": []
   },
   "outputs": [],
   "source": [
    "output['week'] = output['date'].dt.isocalendar().week\n",
    "output['year'] =  output['date'].dt.strftime(\"%Y\")\n",
    "output['month'] =  output['date'].dt.strftime(\"%m\")"
   ]
  },
  {
   "cell_type": "code",
   "execution_count": 24,
   "id": "6b8ddcf8",
   "metadata": {
    "tags": []
   },
   "outputs": [],
   "source": [
    "# output.to_csv('/home/ec2-user/SageMaker/Datasets/check.csv')\n",
    "output = output.loc[output.date.dt.year > 2013]"
   ]
  },
  {
   "cell_type": "code",
   "execution_count": 25,
   "id": "6d7d1b06-2ebe-47a4-9ea6-018078478469",
   "metadata": {
    "tags": []
   },
   "outputs": [],
   "source": [
    "year_split = 2016\n",
    "temp = output.loc[output.date.dt.year <= year_split]\n",
    "train = temp.copy()\n",
    "del temp\n",
    "train.set_index(['store_nbr'],inplace=True)\n",
    "\n",
    "s = (train.dtypes == 'object')\n",
    "cat_cols = list(s[s].index)\n",
    "train[cat_cols] = train[cat_cols].astype('category')\n",
    "\n",
    "X = train.copy()\n",
    "X.drop(['sales', 'date'], inplace=True, axis='columns')\n",
    "# train.head()\n",
    "y = train.sales\n"
   ]
  },
  {
   "cell_type": "code",
   "execution_count": 26,
   "id": "2e9d0cb6-5d75-483c-9e32-0c69113e51dd",
   "metadata": {
    "tags": []
   },
   "outputs": [],
   "source": [
    "temp = output[output.date.dt.year > year_split]\n",
    "valid = temp.copy()\n",
    "del temp\n",
    "valid.set_index(['store_nbr'],inplace=True)\n",
    "\n",
    "\n",
    "s = (valid.dtypes == 'object')\n",
    "cat_cols = list(s[s].index)\n",
    "valid[cat_cols] = valid[cat_cols].astype('category')\n",
    "\n",
    "valid_actual = valid.sales\n",
    "valid.drop(['sales', 'date'], inplace=True, axis='columns')\n"
   ]
  },
  {
   "cell_type": "code",
   "execution_count": 27,
   "id": "f0e6584e-643f-47f9-829b-dd8d79acf42f",
   "metadata": {
    "tags": []
   },
   "outputs": [],
   "source": [
    "X_train, X_valid, y_train, y_valid = train_test_split(X, y, train_size=0.8, test_size=0.2, random_state=0)"
   ]
  },
  {
   "cell_type": "code",
   "execution_count": 28,
   "id": "b8970dd4-c011-45c4-b68d-bba61c50f827",
   "metadata": {
    "tags": []
   },
   "outputs": [
    {
     "name": "stdout",
     "output_type": "stream",
     "text": [
      "[LightGBM] [Warning] Auto-choosing row-wise multi-threading, the overhead of testing was 0.026153 seconds.\n",
      "You can set `force_row_wise=true` to remove the overhead.\n",
      "And if memory is not enough, you can set `force_col_wise=true`.\n",
      "[LightGBM] [Info] Total Bins 336\n",
      "[LightGBM] [Info] Number of data points in the train set: 1558180, number of used features: 6\n",
      "[LightGBM] [Info] Start training from score 378.845693\n"
     ]
    }
   ],
   "source": [
    "#Model training\n",
    "hyper_params = {\n",
    "    'boosting_type': 'gbdt',\n",
    "    'objective': 'regression',\n",
    "    'metric': 'MAPE',\n",
    "    'num_leaves': 32,\n",
    "    'learning_rate': 0.2,\n",
    "    'verbose': 1\n",
    "}\n",
    "\n",
    "lgb_train = lgb.Dataset(X_train, y_train)\n",
    "lgb_eval = lgb.Dataset(X_valid, y_valid, reference=lgb_train)\n",
    "model = lgb.train(hyper_params, train_set=lgb_train, num_boost_round=500, valid_sets=lgb_eval)"
   ]
  },
  {
   "cell_type": "code",
   "execution_count": 29,
   "id": "1f517b1a-c7e3-4af2-bc05-81c00c479076",
   "metadata": {
    "tags": []
   },
   "outputs": [
    {
     "name": "stdout",
     "output_type": "stream",
     "text": [
      "[  -4.34838096  -13.78674818   -9.01538751 ... 1834.31607842  111.99739513\n",
      "   33.67273935]\n"
     ]
    }
   ],
   "source": [
    "#Model Predictions\n",
    "y_pred = model.predict(valid)\n",
    "print(y_pred)\n",
    "# RMSE = np.sqrt(np.mean(np.square((test_actual - y_pred))))\n",
    "# print(RMSE)\n",
    "# train.sales.mean()\n",
    "y_pred = pd.Series(y_pred, name='predictions')\n",
    "# test.shape\n",
    "output.reset_index(inplace=True)\n"
   ]
  },
  {
   "cell_type": "code",
   "execution_count": 30,
   "id": "a25724cd-3134-482b-a742-623738ca6e69",
   "metadata": {
    "tags": []
   },
   "outputs": [],
   "source": [
    "temp = y.copy()\n",
    "temp[:] = np.nan\n",
    "temp.reset_index(drop=True, inplace=True)\n",
    "temp1 = pd.concat([temp, y_pred])\n",
    "temp1.reset_index(drop=True, inplace=True)\n",
    "output = pd.concat([output,temp1], axis=1)\n",
    "del temp\n",
    "del temp1\n",
    "# temp = pd.Series([])\n"
   ]
  },
  {
   "cell_type": "code",
   "execution_count": 31,
   "id": "666c6407-015b-4053-8404-4f12bfc6e617",
   "metadata": {
    "tags": []
   },
   "outputs": [],
   "source": [
    "output.rename(columns={0: 'predictions'}, inplace=True)\n"
   ]
  },
  {
   "cell_type": "code",
   "execution_count": 32,
   "id": "d081b8fd-28fe-4f0a-b983-1acabeee517e",
   "metadata": {
    "tags": []
   },
   "outputs": [
    {
     "data": {
      "text/html": [
       "<div>\n",
       "<style scoped>\n",
       "    .dataframe tbody tr th:only-of-type {\n",
       "        vertical-align: middle;\n",
       "    }\n",
       "\n",
       "    .dataframe tbody tr th {\n",
       "        vertical-align: top;\n",
       "    }\n",
       "\n",
       "    .dataframe thead th {\n",
       "        text-align: right;\n",
       "    }\n",
       "</style>\n",
       "<table border=\"1\" class=\"dataframe\">\n",
       "  <thead>\n",
       "    <tr style=\"text-align: right;\">\n",
       "      <th></th>\n",
       "      <th>index</th>\n",
       "      <th>date</th>\n",
       "      <th>store_nbr</th>\n",
       "      <th>family</th>\n",
       "      <th>sales</th>\n",
       "      <th>onpromotion</th>\n",
       "      <th>city</th>\n",
       "      <th>week</th>\n",
       "      <th>year</th>\n",
       "      <th>month</th>\n",
       "      <th>predictions</th>\n",
       "    </tr>\n",
       "  </thead>\n",
       "  <tbody>\n",
       "    <tr>\n",
       "      <th>0</th>\n",
       "      <td>648648</td>\n",
       "      <td>2014-01-01</td>\n",
       "      <td>1</td>\n",
       "      <td>AUTOMOTIVE</td>\n",
       "      <td>0.0</td>\n",
       "      <td>0</td>\n",
       "      <td>Quito</td>\n",
       "      <td>1</td>\n",
       "      <td>2014</td>\n",
       "      <td>01</td>\n",
       "      <td>NaN</td>\n",
       "    </tr>\n",
       "    <tr>\n",
       "      <th>1</th>\n",
       "      <td>648649</td>\n",
       "      <td>2014-01-01</td>\n",
       "      <td>1</td>\n",
       "      <td>BABY CARE</td>\n",
       "      <td>0.0</td>\n",
       "      <td>0</td>\n",
       "      <td>Quito</td>\n",
       "      <td>1</td>\n",
       "      <td>2014</td>\n",
       "      <td>01</td>\n",
       "      <td>NaN</td>\n",
       "    </tr>\n",
       "    <tr>\n",
       "      <th>2</th>\n",
       "      <td>648650</td>\n",
       "      <td>2014-01-01</td>\n",
       "      <td>1</td>\n",
       "      <td>BEAUTY</td>\n",
       "      <td>0.0</td>\n",
       "      <td>0</td>\n",
       "      <td>Quito</td>\n",
       "      <td>1</td>\n",
       "      <td>2014</td>\n",
       "      <td>01</td>\n",
       "      <td>NaN</td>\n",
       "    </tr>\n",
       "    <tr>\n",
       "      <th>3</th>\n",
       "      <td>648651</td>\n",
       "      <td>2014-01-01</td>\n",
       "      <td>1</td>\n",
       "      <td>BEVERAGES</td>\n",
       "      <td>0.0</td>\n",
       "      <td>0</td>\n",
       "      <td>Quito</td>\n",
       "      <td>1</td>\n",
       "      <td>2014</td>\n",
       "      <td>01</td>\n",
       "      <td>NaN</td>\n",
       "    </tr>\n",
       "    <tr>\n",
       "      <th>4</th>\n",
       "      <td>648652</td>\n",
       "      <td>2014-01-01</td>\n",
       "      <td>1</td>\n",
       "      <td>BOOKS</td>\n",
       "      <td>0.0</td>\n",
       "      <td>0</td>\n",
       "      <td>Quito</td>\n",
       "      <td>1</td>\n",
       "      <td>2014</td>\n",
       "      <td>01</td>\n",
       "      <td>NaN</td>\n",
       "    </tr>\n",
       "  </tbody>\n",
       "</table>\n",
       "</div>"
      ],
      "text/plain": [
       "    index       date  store_nbr      family  sales  onpromotion   city  week   \n",
       "0  648648 2014-01-01          1  AUTOMOTIVE    0.0            0  Quito     1  \\\n",
       "1  648649 2014-01-01          1   BABY CARE    0.0            0  Quito     1   \n",
       "2  648650 2014-01-01          1      BEAUTY    0.0            0  Quito     1   \n",
       "3  648651 2014-01-01          1   BEVERAGES    0.0            0  Quito     1   \n",
       "4  648652 2014-01-01          1       BOOKS    0.0            0  Quito     1   \n",
       "\n",
       "   year month  predictions  \n",
       "0  2014    01          NaN  \n",
       "1  2014    01          NaN  \n",
       "2  2014    01          NaN  \n",
       "3  2014    01          NaN  \n",
       "4  2014    01          NaN  "
      ]
     },
     "execution_count": 32,
     "metadata": {},
     "output_type": "execute_result"
    }
   ],
   "source": [
    "output.head()"
   ]
  },
  {
   "cell_type": "code",
   "execution_count": 33,
   "id": "297890bc-587a-421a-b0cd-f3362ca45dfb",
   "metadata": {
    "tags": []
   },
   "outputs": [],
   "source": [
    "# temp.to_csv('/home/ec2-user/SageMaker/Datasets/predictions.csv')"
   ]
  },
  {
   "cell_type": "code",
   "execution_count": 34,
   "id": "0479c557-a80c-4d6f-9140-9d34841781da",
   "metadata": {
    "tags": []
   },
   "outputs": [
    {
     "data": {
      "text/plain": [
       "<Axes: title={'center': 'Feature importance'}, xlabel='Feature importance', ylabel='Features'>"
      ]
     },
     "execution_count": 34,
     "metadata": {},
     "output_type": "execute_result"
    },
    {
     "data": {
      "image/png": "[encoded data removed]",
      "text/plain": [
       "<Figure size 640x480 with 1 Axes>"
      ]
     },
     "metadata": {},
     "output_type": "display_data"
    }
   ],
   "source": [
    "lgb.plot_importance(model)"
   ]
  },
  {
   "cell_type": "code",
   "execution_count": 35,
   "id": "2c25180e-eac3-4374-b6b9-cb360d260e94",
   "metadata": {
    "tags": []
   },
   "outputs": [
    {
     "name": "stdout",
     "output_type": "stream",
     "text": [
      "0.8251146448060747\n"
     ]
    }
   ],
   "source": [
    "sales = output.groupby(['year', 'month'])[['sales', 'predictions']].sum()\n",
    "MAPE = mean_absolute_percentage_error(sales.sales, sales.predictions)\n",
    "print(MAPE)"
   ]
  },
  {
   "cell_type": "code",
   "execution_count": 36,
   "id": "14f30a58-0c3f-4844-93ec-899738df2bca",
   "metadata": {
    "tags": []
   },
   "outputs": [],
   "source": [
    "sales.reset_index(inplace=True)\n",
    "sales['date'] = sales.year + \"-\" + sales.month\n",
    "sales.drop(['year', 'month'], axis='columns', inplace=True)"
   ]
  },
  {
   "cell_type": "code",
   "execution_count": 37,
   "id": "0de033f2-e216-4086-b036-5f9f0970772b",
   "metadata": {
    "tags": []
   },
   "outputs": [
    {
     "data": {
      "text/plain": [
       "([<matplotlib.axis.XTick at 0x7fe2d38ca800>,\n",
       "  <matplotlib.axis.XTick at 0x7fe2d38ca7d0>,\n",
       "  <matplotlib.axis.XTick at 0x7fe2d38c89d0>,\n",
       "  <matplotlib.axis.XTick at 0x7fe2d38a7b20>,\n",
       "  <matplotlib.axis.XTick at 0x7fe2d3860610>,\n",
       "  <matplotlib.axis.XTick at 0x7fe2d38610c0>,\n",
       "  <matplotlib.axis.XTick at 0x7fe2d3861b70>],\n",
       " [Text(0, 0, '2014-01'),\n",
       "  Text(7, 0, '2014-08'),\n",
       "  Text(14, 0, '2015-03'),\n",
       "  Text(21, 0, '2015-10'),\n",
       "  Text(28, 0, '2016-05'),\n",
       "  Text(35, 0, '2016-12'),\n",
       "  Text(42, 0, '2017-07')])"
      ]
     },
     "execution_count": 37,
     "metadata": {},
     "output_type": "execute_result"
    },
    {
     "data": {
      "image/png": "[encoded data removed]",
      "text/plain": [
       "<Figure size 640x480 with 1 Axes>"
      ]
     },
     "metadata": {},
     "output_type": "display_data"
    }
   ],
   "source": [
    "#Graphing \n",
    "x_temp = sales.loc[sales['predictions']!=0, :]\n",
    "sns.lineplot(data=sales, x='date', y='sales')\n",
    "sns.lineplot(data=x_temp, x='date', y='predictions')\n",
    "sns.lineplot(data=x_temp, x='date', y='predictions')\n",
    "# plt.xticks(sales.year)\n",
    "num_ticks = 7  # Choose the desired number of ticks\n",
    "x_tick_positions = range(0, len(sales), len(sales) // (num_ticks - 1))\n",
    "x_tick_labels = [sales['date'].iloc[pos] for pos in x_tick_positions]\n",
    "plt.xticks(x_tick_positions, x_tick_labels, rotation=45)"
   ]
  },
  {
   "cell_type": "code",
   "execution_count": 38,
   "id": "7f63eaf5-8706-4293-a577-adcbf5136823",
   "metadata": {
    "tags": []
   },
   "outputs": [
    {
     "data": {
      "text/plain": [
       "<Axes: xlabel='date', ylabel='sales'>"
      ]
     },
     "execution_count": 38,
     "metadata": {},
     "output_type": "execute_result"
    },
    {
     "data": {
      "image/png": "[encoded data removed]",
      "text/plain": [
       "<Figure size 640x480 with 1 Axes>"
      ]
     },
     "metadata": {},
     "output_type": "display_data"
    }
   ],
   "source": [
    "x_temp = sales.loc[sales['predictions']!=0, :]\n",
    "sns.lineplot(data=x_temp, x='date', y='sales')\n",
    "sns.lineplot(data=x_temp, x='date', y='predictions')"
   ]
  },
  {
   "cell_type": "code",
   "execution_count": 39,
   "id": "c5a93fde-f483-4a70-9369-cc711c218e0d",
   "metadata": {
    "tags": []
   },
   "outputs": [],
   "source": [
    "output.to_csv('/home/ec2-user/SageMaker/Datasets/nice_graph.csv')"
   ]
  },
  {
   "cell_type": "code",
   "execution_count": 40,
   "id": "d27d79a9-6300-4588-bebb-8bece184d6ad",
   "metadata": {
    "tags": []
   },
   "outputs": [],
   "source": [
    "sales.to_csv('/home/ec2-user/SageMaker/Datasets/test_test.csv')"
   ]
  },
  {
   "cell_type": "code",
   "execution_count": 41,
   "id": "cf939e71-2962-48a2-8949-479780d6cdfc",
   "metadata": {
    "tags": []
   },
   "outputs": [],
   "source": [
    "temp2 = output[output.store_nbr == 50]"
   ]
  },
  {
   "cell_type": "code",
   "execution_count": 42,
   "id": "c12ee0f0-2761-4505-a39f-48eb9eccd1ad",
   "metadata": {
    "tags": []
   },
   "outputs": [],
   "source": [
    "temp3 = temp2.groupby(['year', 'month'])[['sales', 'predictions']].sum()\n",
    "temp3.reset_index(inplace=True)\n",
    "temp3['date'] = temp3.year + \"-\" + temp3.month\n",
    "temp3.drop(['year', 'month'], axis='columns', inplace=True)"
   ]
  },
  {
   "cell_type": "code",
   "execution_count": 43,
   "id": "541b07d0-339c-4df6-a254-c1e52bbb2214",
   "metadata": {
    "tags": []
   },
   "outputs": [
    {
     "data": {
      "text/plain": [
       "<Axes: xlabel='date', ylabel='sales'>"
      ]
     },
     "execution_count": 43,
     "metadata": {},
     "output_type": "execute_result"
    },
    {
     "data": {
      "image/png": "[encoded data removed]",
      "text/plain": [
       "<Figure size 640x480 with 1 Axes>"
      ]
     },
     "metadata": {},
     "output_type": "display_data"
    }
   ],
   "source": [
    "x_temp = temp3.loc[sales['predictions']!=0, :]\n",
    "sns.lineplot(data=x_temp, x='date', y='sales')\n",
    "sns.lineplot(data=x_temp, x='date', y='predictions')\n"
   ]
  },
  {
   "cell_type": "code",
   "execution_count": null,
   "id": "5cb569be-c11e-4508-9432-7d3370a9a5ee",
   "metadata": {},
   "outputs": [],
   "source": []
  },
  {
   "cell_type": "code",
   "execution_count": null,
   "id": "7b40394d-7c2a-42fe-a07a-3ebb098e3dca",
   "metadata": {},
   "outputs": [],
   "source": []
  },
  {
   "cell_type": "code",
   "execution_count": null,
   "id": "109cd6ee-c690-4c52-be82-ac4ce5a79ca2",
   "metadata": {},
   "outputs": [],
   "source": []
  }
 ],
 "metadata": {
  "kernelspec": {
   "display_name": "Python 3",
   "language": "python",
   "name": "python3"
  },
  "language_info": {
   "codemirror_mode": {
    "name": "ipython",
    "version": 3
   },
   "file_extension": ".py",
   "mimetype": "text/x-python",
   "name": "python",
   "nbconvert_exporter": "python",
   "pygments_lexer": "ipython3",
   "version": "3.11.0"
  }
 },
 "nbformat": 4,
 "nbformat_minor": 5
}
